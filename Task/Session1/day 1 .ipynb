{
 "cells": [
  {
   "cell_type": "code",
   "execution_count": 1,
   "metadata": {},
   "outputs": [
    {
     "name": "stdout",
     "output_type": "stream",
     "text": [
      "1246\n"
     ]
    }
   ],
   "source": [
    "District = \"Gwalior\"\n",
    "Total_till_Date= 1234\n",
    "Infected_on_10_june_2020 = 12\n",
    "Infected_on_11_june_2020 = 2\n",
    "Infected_on_12_june_2020 = 13\n",
    "\n",
    "Infected_till_10_june = 1234+12\n",
    "print(Infected_till_10_june)"
   ]
  },
  {
   "cell_type": "code",
   "execution_count": 2,
   "metadata": {},
   "outputs": [
    {
     "data": {
      "text/plain": [
       "0.9724473257698543"
      ]
     },
     "execution_count": 2,
     "metadata": {},
     "output_type": "execute_result"
    }
   ],
   "source": [
    "percentage_change_till_10 = ((Infected_till_10_june - Total_till_Date)/ Total_till_Date)*100\n",
    "percentage_change_till_10"
   ]
  },
  {
   "cell_type": "code",
   "execution_count": 3,
   "metadata": {},
   "outputs": [
    {
     "name": "stdout",
     "output_type": "stream",
     "text": [
      "1248\n"
     ]
    },
    {
     "data": {
      "text/plain": [
       "0.16051364365971107"
      ]
     },
     "execution_count": 3,
     "metadata": {},
     "output_type": "execute_result"
    }
   ],
   "source": [
    "Infected_till_11 = 1234+12+2\n",
    "print(Infected_till_11)\n",
    "percentage_change_11= (( Infected_till_11 - Infected_till_10_june)/ Infected_till_10_june)*100\n",
    "percentage_change_11"
   ]
  },
  {
   "cell_type": "code",
   "execution_count": 4,
   "metadata": {},
   "outputs": [
    {
     "name": "stdout",
     "output_type": "stream",
     "text": [
      "1261\n"
     ]
    },
    {
     "data": {
      "text/plain": [
       "1.0416666666666665"
      ]
     },
     "execution_count": 4,
     "metadata": {},
     "output_type": "execute_result"
    }
   ],
   "source": [
    "Infected_till_12 = 1234 + 12 + 2 + 13\n",
    "print(Infected_till_12)\n",
    "percentage_change_12=((Infected_till_12-Infected_till_11)/Infected_till_11)*100\n",
    "percentage_change_12"
   ]
  },
  {
   "cell_type": "code",
   "execution_count": null,
   "metadata": {},
   "outputs": [],
   "source": []
  }
 ],
 "metadata": {
  "kernelspec": {
   "display_name": "Python 3",
   "language": "python",
   "name": "python3"
  },
  "language_info": {
   "codemirror_mode": {
    "name": "ipython",
    "version": 3
   },
   "file_extension": ".py",
   "mimetype": "text/x-python",
   "name": "python",
   "nbconvert_exporter": "python",
   "pygments_lexer": "ipython3",
   "version": "3.6.5"
  }
 },
 "nbformat": 4,
 "nbformat_minor": 2
}
